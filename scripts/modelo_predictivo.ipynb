{
 "cells": [
  {
   "cell_type": "code",
   "execution_count": 2,
   "metadata": {},
   "outputs": [],
   "source": [
    "import streamlit as st\n",
    "import pandas as pd\n",
    "from sklearn.model_selection import train_test_split\n",
    "from sklearn.linear_model import LinearRegression\n",
    "from sklearn.metrics import mean_squared_error, r2_score\n",
    "\n",
    "\n",
    "# Cargar los datos\n",
    "data = pd.read_excel('../Data/data_academic_performance.xlsx')\n"
   ]
  },
  {
   "cell_type": "code",
   "execution_count": 12,
   "metadata": {},
   "outputs": [],
   "source": [
    "data['PEOPLE_HOUSE'].unique()\n",
    "import pandas as pd\n",
    "\n",
    "# Creemos un DataFrame simple\n",
    "Biodatos = {'Nombre': ['John', 'Emily', 'Mike', 'Lisa'],\n",
    "            'Edad': [28, 23, 35, 31],\n",
    "            'Genero': ['M', 'F', 'M', 'F']}\n",
    "\n",
    "df = pd.DataFrame(Biodatos)\n",
    "\n",
    "# Guardemos el DataFrame en un archivo CSV\n",
    "data.to_csv('data_academic_performance.csv', index=False)\n",
    "\n"
   ]
  }
 ],
 "metadata": {
  "kernelspec": {
   "display_name": "env",
   "language": "python",
   "name": "python3"
  },
  "language_info": {
   "codemirror_mode": {
    "name": "ipython",
    "version": 3
   },
   "file_extension": ".py",
   "mimetype": "text/x-python",
   "name": "python",
   "nbconvert_exporter": "python",
   "pygments_lexer": "ipython3",
   "version": "3.12.0"
  }
 },
 "nbformat": 4,
 "nbformat_minor": 2
}
